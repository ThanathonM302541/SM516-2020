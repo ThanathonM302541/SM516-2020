{
 "cells": [
  {
   "cell_type": "markdown",
   "metadata": {},
   "source": [
    "# <center> Statement"
   ]
  },
  {
   "cell_type": "markdown",
   "metadata": {},
   "source": [
    "<img src=\"https://drive.google.com/uc?id=1NGvC6Fq390FM2o4Qg8MnipGAP3y7Bhop\" align=right width=250>"
   ]
  },
  {
   "cell_type": "markdown",
   "metadata": {},
   "source": [
    "<div align = \"right\">ธนาธร มหาโยธา<br>รหัสนักศึกษา 1710511104016</div>"
   ]
  },
  {
   "cell_type": "markdown",
   "metadata": {},
   "source": [
    "**ลำดับขั้นของไพธอน (The Python Conceptual Hierarchy)**\n",
    "1. Programs are composed of modules.\n",
    "2. Modules contain statements.\n",
    "3. Statements contain expressions.\n",
    "4. Expressions create and process objects.\n"
   ]
  },
  {
   "cell_type": "markdown",
   "metadata": {},
   "source": [
    "## Python Statement"
   ]
  },
  {
   "cell_type": "markdown",
   "metadata": {},
   "source": [
    "<center>\n",
    "<table >\n",
    "<tr>\n",
    "    <td > <div align = center><b>Statement<b>\n",
    "    <td><div align = center><b>หน้าที่(Role) </b>\n",
    "     <td ><div align = center><b>ตัวอย่าง(Example)</b>\n",
    "<tr>\n",
    "    <td><div align = center>Assignment การให้ค่า\n",
    "    <td><div align = center>Creating references สร้างการชี้ไปที่ค่า\n",
    "    <td><div align = center><pre>a, b = 'good', 'bad' <br> ทางขวามือเรียกว่าLiteral\n",
    "<tr>\n",
    "     <td><div align = center>Calls and other expressions\n",
    "     <td><div align = center>Running functions\n",
    "     <td><div align = center><pre>log.write(\"spam, ham\")\n",
    "<tr>\n",
    "     <td><div align = center>print calls\n",
    "     <td><div align = center>Printing objects\n",
    "     <td><div align = center><pre>print('The Killer', joke)\n",
    "<tr>\n",
    "    <td><div align = center>if/elif/else\n",
    "    <td><div align = center>Selecting actions\n",
    "    <td><div align = center><pre>if \"python\" in text:\n",
    "print(text)\n",
    "<tr>\n",
    "     <td><div align = center>for/else\n",
    "     <td><div align = center>Iteration\n",
    "     <td><div align = center><pre>for x in mylist:\n",
    "print(x)\n",
    "<tr>\n",
    "    <td><div align = center>while/else\n",
    "    <td><div align = center>General loops\n",
    "    <td><div align = center><pre>while X > Y:\n",
    "print('hello')\n",
    "<tr>\n",
    "     <td><div align = center>pass\n",
    "     <td><div align = center>Empty placeholder\n",
    "     <td><div align = center><pre>while True:\n",
    "pass\n",
    "<tr>\n",
    "     <td><div align = center>break\n",
    "     <td><div align = center>Loop exit\n",
    "     <td><div align = center><pre>while True:\n",
    "if exittest(): break\n",
    "<tr>\n",
    "    <td><div align = center>continue\n",
    "    <td><div align = center>Loop continue\n",
    "    <td><div align = center><pre>while True:\n",
    "if skiptest(): continue\n",
    "<tr>\n",
    "     <td><div align = center>def\n",
    "     <td><div align = center>Functions and methods\n",
    "     <td><div align = center><pre>def f(a, b, c=1, *d):\n",
    "print(a+b+c+d[0])\n",
    "<tr>\n",
    "     <td><div align = center>return\n",
    "     <td><div align = center>Functions results\n",
    "     <td><div align = center><pre> def f(a, b, c=1, *d):\n",
    "return a+b+c+d[0]\n",
    "<tr>\n",
    "     <td><div align = center>yield\n",
    "     <td><div align = center>Generator functions\n",
    "     <td><div align = center><pre> def gen(n):\n",
    "for i in n: yield i*2\n",
    "<tr>\n",
    "     <td><div align = center>global\n",
    "     <td><div align = center>Namespaces\n",
    "     <td><div align = center><pre> x = 'old'\n",
    "def function():\n",
    "global x, y; x = 'new'\n",
    "<tr>\n",
    "     <td><div align = center>nonlocal\n",
    "     <td><div align = center>Namespaces (3.X)\n",
    "     <td><div align = center><pre> def outer():\n",
    "x = 'old' <br> def function():\n",
    "nonlocal x; x = 'new'\n",
    "<tr>\n",
    "     <td><div align = center>import\n",
    "     <td><div align = center>Module access\n",
    "     <td><div align = center><pre> import sys\n",
    "<tr>\n",
    "     <td><div align = center>from\n",
    "     <td><div align = center>Attribute access\n",
    "     <td><div align = center><pre> from sys import stdin\n",
    "<tr>\n",
    "     <td><div align = center>class\n",
    "     <td><div align = center>Building objects\n",
    "     <td><div align = center><pre> class Subclass(Superclass):\n",
    "staticData = []\n",
    "def method(self): pass\n",
    "<tr>\n",
    "     <td><div align = center>try/except/ finally\n",
    "     <td><div align = center>Catching exceptions\n",
    "     <td><div align = center><pre> try:\n",
    "action() <br>\n",
    "except:\n",
    "print('action error')\n",
    "<tr>\n",
    "     <td><div align = center>raise\n",
    "     <td><div align = center>Triggering exceptions\n",
    "     <td><div align = center><pre> raise EndSearch(location)\n",
    "<tr>\n",
    "     <td><div align = center>assert\n",
    "     <td><div align = center>Debugging checks\n",
    "     <td><div align = center><pre>assert X > Y, 'X too small'\n",
    "<tr>\n",
    "     <td><div align = center>with/as\n",
    "     <td><div align = center>Context managers (3.X, 2.6+)\n",
    "     <td><div align = center><pre> with open('data') as myfile:\n",
    "process(myfile)\n",
    "<tr>\n",
    "     <td><div align = center>del\n",
    "     <td><div align = center>Deleting references\n",
    "     <td><div align = center><pre> del data[k]\n",
    "del data[i:j]\n",
    "del obj.attr\n",
    "del variable\n",
    "\n",
    "</table>"
   ]
  },
  {
   "cell_type": "markdown",
   "metadata": {},
   "source": [
    "Statement บน Python มีลักษณะสำคัญ\n",
    "1. ใช้กั้นหน้า (Indent) บอก Statement ระดับของกั้นหน้า ตามเครื่องหมายทวิภาค (:)\n",
    "1. หลีกเลี่ยงการใช้วงเล็บ \"( )\" วงเล็บใช้กับตัวเก็บ (Container) แบบ Tuple"
   ]
  },
  {
   "cell_type": "code",
   "execution_count": null,
   "metadata": {},
   "outputs": [],
   "source": [
    ":\n",
    "    :\n",
    "        :\n",
    "            :\n",
    "            "
   ]
  },
  {
   "cell_type": "markdown",
   "metadata": {},
   "source": [
    "กั้นหน้าทำให้ Code ของ Python อ่านง่าย ทำให้ Python เป็นที่นิยมใช้กันทั่วไป"
   ]
  },
  {
   "cell_type": "markdown",
   "metadata": {},
   "source": [
    "## The Assignment Statement"
   ]
  },
  {
   "cell_type": "markdown",
   "metadata": {},
   "source": [
    "<pre>\n",
    "<i>\n",
    "target = expression \n",
    "target1 = target2 = expression \n",
    "target1, target2 = expression1, expression2 \n",
    "target1 += expression\n",
    "<br>\n",
    "target1, target2,  ...  = same-length-iterable \n",
    "(target1, target2, ...) = same-length-iterable \n",
    "[target1, target2, ...] = same-length-iterable \n",
    "target1, *target2, ...  = matching-length-iterable"
   ]
  },
  {
   "cell_type": "markdown",
   "metadata": {},
   "source": [
    "### Sequence Assignments"
   ]
  },
  {
   "cell_type": "code",
   "execution_count": 3,
   "metadata": {},
   "outputs": [
    {
     "data": {
      "text/plain": [
       "(1, 2)"
      ]
     },
     "execution_count": 3,
     "metadata": {},
     "output_type": "execute_result"
    }
   ],
   "source": [
    "nudge = 1                      # Basic assignment\n",
    "wink = 2\n",
    "A, B = nudge, wink             # Basic assignment\n",
    "A, B"
   ]
  },
  {
   "cell_type": "code",
   "execution_count": 5,
   "metadata": {},
   "outputs": [
    {
     "data": {
      "text/plain": [
       "(1, 2)"
      ]
     },
     "execution_count": 5,
     "metadata": {},
     "output_type": "execute_result"
    }
   ],
   "source": [
    "[C, D] = [nudge, wink]         # List Assignment\n",
    "C, D"
   ]
  },
  {
   "cell_type": "code",
   "execution_count": 7,
   "metadata": {},
   "outputs": [
    {
     "data": {
      "text/plain": [
       "(2, 1)"
      ]
     },
     "execution_count": 7,
     "metadata": {},
     "output_type": "execute_result"
    }
   ],
   "source": [
    "'''การสลับค่า'''\n",
    ">>> nudge = 1 \n",
    ">>> wink  = 2 \n",
    ">>> nudge, wink = wink, nudge         # Tuples: swaps values >>> nudge, wink                   \n",
    ">>> nudge, wink                       # Like T = nudge; nudge = wink; wink = T "
   ]
  },
  {
   "cell_type": "code",
   "execution_count": 8,
   "metadata": {},
   "outputs": [
    {
     "data": {
      "text/plain": [
       "(1, 3)"
      ]
     },
     "execution_count": 8,
     "metadata": {},
     "output_type": "execute_result"
    }
   ],
   "source": [
    "[a, b, c] = (1, 2, 3)                 # Assign tuple of values to list of names\n",
    "a, c"
   ]
  },
  {
   "cell_type": "code",
   "execution_count": 9,
   "metadata": {},
   "outputs": [
    {
     "data": {
      "text/plain": [
       "('A', 'C')"
      ]
     },
     "execution_count": 9,
     "metadata": {},
     "output_type": "execute_result"
    }
   ],
   "source": [
    "(a, b, c) = \"ABC\"                    # Assign string of characters to tuple \n",
    "a, c "
   ]
  },
  {
   "cell_type": "code",
   "execution_count": null,
   "metadata": {},
   "outputs": [],
   "source": []
  }
 ],
 "metadata": {
  "kernelspec": {
   "display_name": "Python 3",
   "language": "python",
   "name": "python3"
  },
  "language_info": {
   "codemirror_mode": {
    "name": "ipython",
    "version": 3
   },
   "file_extension": ".py",
   "mimetype": "text/x-python",
   "name": "python",
   "nbconvert_exporter": "python",
   "pygments_lexer": "ipython3",
   "version": "3.8.7"
  }
 },
 "nbformat": 4,
 "nbformat_minor": 2
}
